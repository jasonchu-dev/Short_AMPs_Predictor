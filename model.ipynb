{
 "cells": [
  {
   "cell_type": "markdown",
   "id": "f18c18a0",
   "metadata": {},
   "source": [
    "Import modules and prep training data"
   ]
  },
  {
   "cell_type": "code",
   "execution_count": 1,
   "id": "c949fdce-a9ce-4f9c-859d-2c0518871c0c",
   "metadata": {},
   "outputs": [
    {
     "ename": "FileNotFoundError",
     "evalue": "[Errno 2] No such file or directory: '/home/jovyan/work/Short_AMPs_Predictor/train_set/po_cd_hit.txt'",
     "output_type": "error",
     "traceback": [
      "\u001b[0;31m---------------------------------------------------------------------------\u001b[0m",
      "\u001b[0;31mFileNotFoundError\u001b[0m                         Traceback (most recent call last)",
      "Cell \u001b[0;32mIn[1], line 10\u001b[0m\n\u001b[1;32m      7\u001b[0m \u001b[38;5;28;01mfrom\u001b[39;00m \u001b[38;5;21;01mlazypredict\u001b[39;00m\u001b[38;5;21;01m.\u001b[39;00m\u001b[38;5;21;01mSupervised\u001b[39;00m \u001b[38;5;28;01mimport\u001b[39;00m LazyClassifier\n\u001b[1;32m      9\u001b[0m \u001b[38;5;66;03m# prep positive data and label\u001b[39;00m\n\u001b[0;32m---> 10\u001b[0m \u001b[43maac_wp\u001b[49m\u001b[43m(\u001b[49m\u001b[38;5;124;43m'\u001b[39;49m\u001b[38;5;124;43m/home/jovyan/work/Short_AMPs_Predictor/train_set/po_cd_hit.txt\u001b[39;49m\u001b[38;5;124;43m'\u001b[39;49m\u001b[43m,\u001b[49m\u001b[43m \u001b[49m\u001b[38;5;124;43m'\u001b[39;49m\u001b[38;5;124;43m/home/jovyan/work/Short_AMPs_Predictor/po_aac.csv\u001b[39;49m\u001b[38;5;124;43m'\u001b[39;49m\u001b[43m)\u001b[49m\n\u001b[1;32m     11\u001b[0m po_df \u001b[38;5;241m=\u001b[39m pd\u001b[38;5;241m.\u001b[39mread_csv(\u001b[38;5;124m'\u001b[39m\u001b[38;5;124mpo_aac.csv\u001b[39m\u001b[38;5;124m'\u001b[39m)\n\u001b[1;32m     12\u001b[0m po_df[\u001b[38;5;124m'\u001b[39m\u001b[38;5;124my\u001b[39m\u001b[38;5;124m'\u001b[39m] \u001b[38;5;241m=\u001b[39m \u001b[38;5;241m1\u001b[39m\n",
      "File \u001b[0;32m/opt/conda/lib/python3.10/site-packages/Pfeature/pfeature.py:53\u001b[0m, in \u001b[0;36maac_wp\u001b[0;34m(file, out)\u001b[0m\n\u001b[1;32m     52\u001b[0m \u001b[38;5;28;01mdef\u001b[39;00m \u001b[38;5;21maac_wp\u001b[39m(file,out):\n\u001b[0;32m---> 53\u001b[0m      \u001b[43mreadseq\u001b[49m\u001b[43m(\u001b[49m\u001b[43mfile\u001b[49m\u001b[43m,\u001b[49m\u001b[38;5;124;43m'\u001b[39;49m\u001b[38;5;124;43minput_sam.csv\u001b[39;49m\u001b[38;5;124;43m'\u001b[39;49m\u001b[43m)\u001b[49m\n\u001b[1;32m     54\u001b[0m      aac_comp(\u001b[38;5;124m'\u001b[39m\u001b[38;5;124minput_sam.csv\u001b[39m\u001b[38;5;124m'\u001b[39m,\u001b[38;5;124m'\u001b[39m\u001b[38;5;124mtempfile_out\u001b[39m\u001b[38;5;124m'\u001b[39m)\n\u001b[1;32m     55\u001b[0m      df \u001b[38;5;241m=\u001b[39m pd\u001b[38;5;241m.\u001b[39mread_csv(\u001b[38;5;124m'\u001b[39m\u001b[38;5;124mtempfile_out\u001b[39m\u001b[38;5;124m'\u001b[39m)\n",
      "File \u001b[0;32m/opt/conda/lib/python3.10/site-packages/Pfeature/pfeature.py:4719\u001b[0m, in \u001b[0;36mreadseq\u001b[0;34m(file, out)\u001b[0m\n\u001b[1;32m   4718\u001b[0m \u001b[38;5;28;01mdef\u001b[39;00m \u001b[38;5;21mreadseq\u001b[39m(file,out):\n\u001b[0;32m-> 4719\u001b[0m     \u001b[38;5;28;01mwith\u001b[39;00m \u001b[38;5;28;43mopen\u001b[39;49m\u001b[43m(\u001b[49m\u001b[43mfile\u001b[49m\u001b[43m)\u001b[49m \u001b[38;5;28;01mas\u001b[39;00m f:\n\u001b[1;32m   4720\u001b[0m         records \u001b[38;5;241m=\u001b[39m f\u001b[38;5;241m.\u001b[39mread()\n\u001b[1;32m   4721\u001b[0m     records \u001b[38;5;241m=\u001b[39m records\u001b[38;5;241m.\u001b[39msplit(\u001b[38;5;124m'\u001b[39m\u001b[38;5;124m>\u001b[39m\u001b[38;5;124m'\u001b[39m)[\u001b[38;5;241m1\u001b[39m:]\n",
      "\u001b[0;31mFileNotFoundError\u001b[0m: [Errno 2] No such file or directory: '/home/jovyan/work/Short_AMPs_Predictor/train_set/po_cd_hit.txt'"
     ]
    }
   ],
   "source": [
    "from Pfeature.pfeature import aac_wp\n",
    "from sklearn.feature_selection import VarianceThreshold\n",
    "from sklearn.metrics import accuracy_score, matthews_corrcoef, confusion_matrix\n",
    "import pandas as pd\n",
    "import os\n",
    "import lazypredict\n",
    "from lazypredict.Supervised import LazyClassifier\n",
    "\n",
    "# prep positive data and label\n",
    "aac_wp('/home/jovyan/work/Short_AMPs_Predictor/train_set/po_cd_hit.txt', '/home/jovyan/work/Short_AMPs_Predictor/po_aac.csv')\n",
    "po_df = pd.read_csv('po_aac.csv')\n",
    "po_df['y'] = 1\n",
    "po_df"
   ]
  },
  {
   "cell_type": "code",
   "execution_count": null,
   "id": "9abac4b7-5453-4716-84a7-771cbba719d3",
   "metadata": {},
   "outputs": [],
   "source": [
    "# prep negative data and label\n",
    "aac_wp('train_set/ne_cd_hit.txt', 'ne_aac.csv')\n",
    "ne_df = pd.read_csv('ne_aac.csv')\n",
    "ne_df['y'] = 0\n",
    "ne_df"
   ]
  },
  {
   "cell_type": "code",
   "execution_count": null,
   "id": "0136690e-9757-4162-8472-8cb39b1f47b5",
   "metadata": {},
   "outputs": [],
   "source": [
    "os.remove('po_aac.csv')\n",
    "os.remove('ne_aac.csv')"
   ]
  },
  {
   "cell_type": "markdown",
   "id": "0d9987bd",
   "metadata": {},
   "source": [
    "Combine po and ne data and shuffle"
   ]
  },
  {
   "cell_type": "code",
   "execution_count": null,
   "id": "6efdf9db-2109-41b0-b232-cdf093ec92b6",
   "metadata": {},
   "outputs": [],
   "source": [
    "X_train = pd.concat([po_df, ne_df], axis=0)\n",
    "# shuffle data\n",
    "X_train = X_train.sample(frac=1).reset_index(drop=True)"
   ]
  },
  {
   "cell_type": "markdown",
   "id": "f297d90f",
   "metadata": {},
   "source": [
    "Seperate X and y data from training"
   ]
  },
  {
   "cell_type": "code",
   "execution_count": null,
   "id": "1f294b8c-f1de-45bd-9b28-aea93065d09c",
   "metadata": {},
   "outputs": [],
   "source": [
    "y_train = X_train['y']\n",
    "X_train.drop(columns='y', inplace=True)\n",
    "X_train"
   ]
  },
  {
   "cell_type": "code",
   "execution_count": null,
   "id": "6504a1a2-948f-4af3-ad92-7e5accba541e",
   "metadata": {},
   "outputs": [],
   "source": [
    "y_train"
   ]
  },
  {
   "cell_type": "markdown",
   "id": "4a8a6fb1-5fca-40d7-8e2f-41f0e8c07941",
   "metadata": {},
   "source": [
    "Find algorithm with best accuracy"
   ]
  },
  {
   "cell_type": "code",
   "execution_count": null,
   "id": "7e482bc9-f219-4aa1-9f70-84f7b5b2cfe7",
   "metadata": {},
   "outputs": [],
   "source": [
    "clf = LazyClassifier(verbose=0,ignore_warnings=True, custom_metric=matthews_corrcoef)\n",
    "models_train, predictions_train = clf.fit(X_train, X_train, y_train, y_train)\n",
    "models_train"
   ]
  },
  {
   "cell_type": "markdown",
   "id": "678266c6-4f2c-4db2-a969-75a7d98643de",
   "metadata": {},
   "source": [
    "Setup testing data to try and apply to model"
   ]
  },
  {
   "cell_type": "code",
   "execution_count": null,
   "id": "369c3d67-046c-4a4e-9261-2a6f7b6c8aa2",
   "metadata": {},
   "outputs": [],
   "source": [
    "aac_wp('test_set/po_cd_hit.txt', 'po_cd_hit.csv')\n",
    "aac_wp('test_set/ne_cd_hit.txt', 'ne_cd_hit.csv')\n",
    "test_po_df = pd.read_csv('po_cd_hit.csv')\n",
    "test_ne_df = pd.read_csv('ne_cd_hit.csv')\n",
    "y_test = [1 for i in range(test_po_df.index.stop)] + [0 for i in range(test_ne_df.index.stop)]\n",
    "os.remove('po_cd_hit.csv')\n",
    "os.remove('ne_cd_hit.csv')\n",
    "X_test = pd.concat([test_po_df, test_ne_df], axis=0)\n",
    "X_test"
   ]
  },
  {
   "cell_type": "code",
   "execution_count": null,
   "id": "e081988c-a7a1-406b-ba5a-9af48890297f",
   "metadata": {},
   "outputs": [],
   "source": [
    "# models_test, predictions_test = clf.fit(X_train, X_test, y_train, y_test)\n",
    "# models_test"
   ]
  },
  {
   "cell_type": "markdown",
   "id": "85d71c57",
   "metadata": {},
   "source": [
    "Random Forest is the best so setup for that"
   ]
  },
  {
   "cell_type": "code",
   "execution_count": null,
   "id": "b90a1872-36f4-4ab3-9e95-cb044bdf1bd1",
   "metadata": {},
   "outputs": [],
   "source": [
    "from sklearn.ensemble import RandomForestClassifier\n",
    "\n",
    "rf = RandomForestClassifier(n_estimators=500)\n",
    "rf.fit(X_train, y_train)"
   ]
  },
  {
   "cell_type": "markdown",
   "id": "ba468f76",
   "metadata": {},
   "source": [
    "Apply model"
   ]
  },
  {
   "cell_type": "code",
   "execution_count": null,
   "id": "a4881730-aaca-4815-bf11-80412ebafcd6",
   "metadata": {},
   "outputs": [],
   "source": [
    "# _predict = []\n",
    "\n",
    "# for i in range(len(X_test)):\n",
    "#     prediction = rf.predict(X_test.iloc[i:i+1, :])\n",
    "#     _predict.append(prediction)\n",
    "\n",
    "y_test_pred = rf.predict(X_test)\n",
    "y_test_pred"
   ]
  },
  {
   "cell_type": "markdown",
   "id": "c45a38f7",
   "metadata": {},
   "source": [
    "Some scores"
   ]
  },
  {
   "cell_type": "code",
   "execution_count": null,
   "id": "98cb450f-9630-4c41-901c-a40190ad5504",
   "metadata": {},
   "outputs": [],
   "source": [
    "accuracy_score(y_test, y_test_pred), matthews_corrcoef(y_test, y_test_pred), confusion_matrix(y_test, y_test_pred)"
   ]
  },
  {
   "cell_type": "markdown",
   "id": "992ef98d",
   "metadata": {},
   "source": [
    "Remove features that don't mean anything using variance"
   ]
  },
  {
   "cell_type": "code",
   "execution_count": null,
   "id": "87d3fa94-f12b-46ff-9654-ff49c43b1002",
   "metadata": {},
   "outputs": [],
   "source": [
    "# all thresholds for aac will ussually be way greater than 0.1\n",
    "threshold = VarianceThreshold(threshold=0.1)\n",
    "threshold.fit_transform(X_train)\n",
    "X2 = X_train.loc[:, threshold.get_support()]\n",
    "X2"
   ]
  },
  {
   "cell_type": "markdown",
   "id": "f05014d5",
   "metadata": {},
   "source": [
    "Show features by importance"
   ]
  },
  {
   "cell_type": "code",
   "execution_count": null,
   "id": "921b3418-322d-4ce2-a754-6f6d2d8f896b",
   "metadata": {},
   "outputs": [],
   "source": [
    "final_df = pd.DataFrame(data={'Features': X2.columns, 'Gini' : rf.feature_importances_})\n",
    "final_df.sort_values(by='Gini', ascending=False, inplace=True)\n",
    "final_df.reset_index(drop=True, inplace=True)\n",
    "final_df"
   ]
  },
  {
   "cell_type": "markdown",
   "id": "441fa3aa",
   "metadata": {},
   "source": [
    "Also show in graphical representation"
   ]
  },
  {
   "cell_type": "code",
   "execution_count": null,
   "id": "66eb92dc-306a-449a-af39-ec6a6334e6d0",
   "metadata": {},
   "outputs": [],
   "source": [
    "# Combine feature names and Gini values into a Dataframe\n",
    "# Plot of feature importance\n",
    "import matplotlib.pyplot as plt\n",
    "import seaborn as sns\n",
    "\n",
    "plt.figure(figsize=(5, 10))\n",
    "sns.set_theme(style=\"whitegrid\")\n",
    "ax = sns.barplot(x = 'Gini', y = 'Features', data = final_df)\n",
    "plt.xlabel(\"Feature Importance\")"
   ]
  }
 ],
 "metadata": {
  "kernelspec": {
   "display_name": "Python 3 (ipykernel)",
   "language": "python",
   "name": "python3"
  },
  "language_info": {
   "codemirror_mode": {
    "name": "ipython",
    "version": 3
   },
   "file_extension": ".py",
   "mimetype": "text/x-python",
   "name": "python",
   "nbconvert_exporter": "python",
   "pygments_lexer": "ipython3",
   "version": "3.10.8"
  },
  "vscode": {
   "interpreter": {
    "hash": "3847c88516e39c615ecf76c4af8caebdbbfe7bc469fea17b208be30d7335ee82"
   }
  }
 },
 "nbformat": 4,
 "nbformat_minor": 5
}
